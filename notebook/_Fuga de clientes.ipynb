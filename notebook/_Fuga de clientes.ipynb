{
 "cells": [
  {
   "cell_type": "markdown",
   "metadata": {},
   "source": [
    "# Beta Bank"
   ]
  },
  {
   "cell_type": "markdown",
   "metadata": {},
   "source": [
    "El banco Beta Bank ha identificado que sus clientes se están yendo y consideraron que lo mas óptimo es lograr convencer a los aún clientes de permanecer en el banco.\n",
    "\n",
    "Para ese objetivo se nos ha proporcionado data sobre el comportamiento pasado de los clientes y la terminación de contratos.\n",
    "Lo que se pretende obtener son las predicciones de si un cliente dejará el banco o no.\n",
    "\n",
    "Necesitamos para este requerimiento un modelo de clasificación binaria que seleccione 1 si el cliente va a dejar el banco y 0 en caso negativo.\n",
    "\n",
    "Mediremos el éxito del modelo basado en la métrica F1, compararemos la matriz de confusión junto con la precisión, el recall y el AUC-ROC.\n",
    "\n",
    "Previo a la modelación es necesario preprocesar los datos, validar duplicados, quitar valores ausentes que puedan alterar el modelo, codificar las columnas necesarias, estandarizar los valores de cada columna numérica, esto último dependiendo del modelo elegido."
   ]
  },
  {
   "cell_type": "markdown",
   "metadata": {},
   "source": [
    "## Importación de librerías, descarga y preprocesamiento de los datos"
   ]
  },
  {
   "cell_type": "markdown",
   "metadata": {},
   "source": [
    "### Importación y lectura de datos"
   ]
  },
  {
   "cell_type": "code",
   "execution_count": 18,
   "metadata": {},
   "outputs": [],
   "source": [
    "# importar librerias\n",
    "import pandas as pd\n",
    "import numpy as np\n",
    "import matplotlib.pyplot as plt\n",
    "from sklearn.model_selection import train_test_split\n",
    "from sklearn.linear_model import LogisticRegression\n",
    "from sklearn.tree import DecisionTreeClassifier\n",
    "from sklearn.ensemble import RandomForestClassifier\n",
    "from sklearn.preprocessing import OrdinalEncoder, StandardScaler\n",
    "from sklearn.utils import shuffle\n",
    "from sklearn.metrics import accuracy_score, recall_score, precision_score, precision_recall_curve, f1_score, confusion_matrix, roc_curve, roc_auc_score\n",
    "pd.set_option('mode.chained_assignment', None)"
   ]
  },
  {
   "cell_type": "code",
   "execution_count": 19,
   "metadata": {},
   "outputs": [],
   "source": [
    "# leer datos\n",
    "data = pd.read_csv('./Churn.csv')"
   ]
  },
  {
   "cell_type": "code",
   "execution_count": 20,
   "metadata": {
    "scrolled": true
   },
   "outputs": [
    {
     "data": {
      "text/html": [
       "<div>\n",
       "<style scoped>\n",
       "    .dataframe tbody tr th:only-of-type {\n",
       "        vertical-align: middle;\n",
       "    }\n",
       "\n",
       "    .dataframe tbody tr th {\n",
       "        vertical-align: top;\n",
       "    }\n",
       "\n",
       "    .dataframe thead th {\n",
       "        text-align: right;\n",
       "    }\n",
       "</style>\n",
       "<table border=\"1\" class=\"dataframe\">\n",
       "  <thead>\n",
       "    <tr style=\"text-align: right;\">\n",
       "      <th></th>\n",
       "      <th>RowNumber</th>\n",
       "      <th>CustomerId</th>\n",
       "      <th>Surname</th>\n",
       "      <th>CreditScore</th>\n",
       "      <th>Geography</th>\n",
       "      <th>Gender</th>\n",
       "      <th>Age</th>\n",
       "      <th>Tenure</th>\n",
       "      <th>Balance</th>\n",
       "      <th>NumOfProducts</th>\n",
       "      <th>HasCrCard</th>\n",
       "      <th>IsActiveMember</th>\n",
       "      <th>EstimatedSalary</th>\n",
       "      <th>Exited</th>\n",
       "    </tr>\n",
       "  </thead>\n",
       "  <tbody>\n",
       "    <tr>\n",
       "      <th>3837</th>\n",
       "      <td>3838</td>\n",
       "      <td>15662533</td>\n",
       "      <td>Porter</td>\n",
       "      <td>598</td>\n",
       "      <td>Spain</td>\n",
       "      <td>Female</td>\n",
       "      <td>23</td>\n",
       "      <td>6.0</td>\n",
       "      <td>0.0</td>\n",
       "      <td>2</td>\n",
       "      <td>1</td>\n",
       "      <td>0</td>\n",
       "      <td>153229.19</td>\n",
       "      <td>0</td>\n",
       "    </tr>\n",
       "  </tbody>\n",
       "</table>\n",
       "</div>"
      ],
      "text/plain": [
       "      RowNumber  CustomerId Surname  CreditScore Geography  Gender  Age  \\\n",
       "3837       3838    15662533  Porter          598     Spain  Female   23   \n",
       "\n",
       "      Tenure  Balance  NumOfProducts  HasCrCard  IsActiveMember  \\\n",
       "3837     6.0      0.0              2          1               0   \n",
       "\n",
       "      EstimatedSalary  Exited  \n",
       "3837        153229.19       0  "
      ]
     },
     "execution_count": 20,
     "metadata": {},
     "output_type": "execute_result"
    }
   ],
   "source": [
    "data.sample()"
   ]
  },
  {
   "cell_type": "code",
   "execution_count": 21,
   "metadata": {},
   "outputs": [
    {
     "name": "stdout",
     "output_type": "stream",
     "text": [
      "<class 'pandas.core.frame.DataFrame'>\n",
      "RangeIndex: 10000 entries, 0 to 9999\n",
      "Data columns (total 14 columns):\n",
      " #   Column           Non-Null Count  Dtype  \n",
      "---  ------           --------------  -----  \n",
      " 0   RowNumber        10000 non-null  int64  \n",
      " 1   CustomerId       10000 non-null  int64  \n",
      " 2   Surname          10000 non-null  object \n",
      " 3   CreditScore      10000 non-null  int64  \n",
      " 4   Geography        10000 non-null  object \n",
      " 5   Gender           10000 non-null  object \n",
      " 6   Age              10000 non-null  int64  \n",
      " 7   Tenure           9091 non-null   float64\n",
      " 8   Balance          10000 non-null  float64\n",
      " 9   NumOfProducts    10000 non-null  int64  \n",
      " 10  HasCrCard        10000 non-null  int64  \n",
      " 11  IsActiveMember   10000 non-null  int64  \n",
      " 12  EstimatedSalary  10000 non-null  float64\n",
      " 13  Exited           10000 non-null  int64  \n",
      "dtypes: float64(3), int64(8), object(3)\n",
      "memory usage: 1.1+ MB\n"
     ]
    }
   ],
   "source": [
    "data.info()"
   ]
  },
  {
   "cell_type": "code",
   "execution_count": 22,
   "metadata": {
    "scrolled": true
   },
   "outputs": [
    {
     "data": {
      "text/plain": [
       "9.09"
      ]
     },
     "execution_count": 22,
     "metadata": {},
     "output_type": "execute_result"
    }
   ],
   "source": [
    "100 * data.Tenure.isna().sum() / data.shape[0]"
   ]
  },
  {
   "cell_type": "markdown",
   "metadata": {},
   "source": [
    "La columna `Tenure` tiene valores ausentes, 9.09% de sus registros no tienen información y dado que representa los años que un cliente ha permanecido en el banco es importante que en la columna no haya valores `nan`.\n",
    "\n",
    "Hemos encontrado la misma información en kaggle, así que usaremos ese dataset."
   ]
  },
  {
   "cell_type": "code",
   "execution_count": 23,
   "metadata": {},
   "outputs": [],
   "source": [
    "data = pd.read_csv('./Churn_Modelling.csv')"
   ]
  },
  {
   "cell_type": "code",
   "execution_count": 24,
   "metadata": {},
   "outputs": [
    {
     "name": "stdout",
     "output_type": "stream",
     "text": [
      "<class 'pandas.core.frame.DataFrame'>\n",
      "RangeIndex: 10000 entries, 0 to 9999\n",
      "Data columns (total 14 columns):\n",
      " #   Column           Non-Null Count  Dtype  \n",
      "---  ------           --------------  -----  \n",
      " 0   RowNumber        10000 non-null  int64  \n",
      " 1   CustomerId       10000 non-null  int64  \n",
      " 2   Surname          10000 non-null  object \n",
      " 3   CreditScore      10000 non-null  int64  \n",
      " 4   Geography        10000 non-null  object \n",
      " 5   Gender           10000 non-null  object \n",
      " 6   Age              10000 non-null  int64  \n",
      " 7   Tenure           10000 non-null  int64  \n",
      " 8   Balance          10000 non-null  float64\n",
      " 9   NumOfProducts    10000 non-null  int64  \n",
      " 10  HasCrCard        10000 non-null  int64  \n",
      " 11  IsActiveMember   10000 non-null  int64  \n",
      " 12  EstimatedSalary  10000 non-null  float64\n",
      " 13  Exited           10000 non-null  int64  \n",
      "dtypes: float64(2), int64(9), object(3)\n",
      "memory usage: 1.1+ MB\n"
     ]
    }
   ],
   "source": [
    "data.info()"
   ]
  },
  {
   "cell_type": "markdown",
   "metadata": {},
   "source": [
    "Vamos a estandarizar las columnas al formato snake-case y veremos los valores únicos de las columnas categóricas."
   ]
  },
  {
   "cell_type": "code",
   "execution_count": 25,
   "metadata": {},
   "outputs": [],
   "source": [
    "data.columns = data.columns.str.lower()\n",
    "data.columns = ['row_number', 'customer_id', 'surname', 'credit_score', 'geography',\n",
    "                'gender', 'age', 'tenure', 'balance', 'num_of_products', 'has_cr_card',\n",
    "                'is_active_member', 'estimated_salary', 'exited']"
   ]
  },
  {
   "cell_type": "code",
   "execution_count": 26,
   "metadata": {},
   "outputs": [
    {
     "name": "stdout",
     "output_type": "stream",
     "text": [
      "geography ['France' 'Germany' 'Spain']\n",
      "gender ['Female' 'Male']\n",
      "tenure [ 0  1  2  3  4  5  6  7  8  9 10]\n",
      "num_of_products [1 2 3 4]\n",
      "has_cr_card [0 1]\n",
      "is_active_member [0 1]\n",
      "exited [0 1]\n"
     ]
    }
   ],
   "source": [
    "list = ['geography',\n",
    "        'gender', 'tenure', 'num_of_products', 'has_cr_card',\n",
    "        'is_active_member', 'exited']\n",
    "for column in list:\n",
    "    print(column, data[column].sort_values().unique())"
   ]
  },
  {
   "cell_type": "code",
   "execution_count": 27,
   "metadata": {},
   "outputs": [
    {
     "data": {
      "text/plain": [
       "0"
      ]
     },
     "execution_count": 27,
     "metadata": {},
     "output_type": "execute_result"
    }
   ],
   "source": [
    "data.duplicated().sum()"
   ]
  },
  {
   "cell_type": "markdown",
   "metadata": {},
   "source": [
    "No hay ningún duplicado por registro. El tipo de datos de cada columna es la correcta.\n",
    "\n",
    "Las primeras tres columnas no proveen algun tipo de información relevante para el modelo, ya se es el número de fila, el id de cliente y el apellido, lo que optaremos por quitarlos del dataset."
   ]
  },
  {
   "cell_type": "code",
   "execution_count": 28,
   "metadata": {},
   "outputs": [],
   "source": [
    "data = data.drop(['row_number', 'customer_id', 'surname'], axis=1)"
   ]
  },
  {
   "cell_type": "markdown",
   "metadata": {},
   "source": [
    "### Codificación de columnas categóricas"
   ]
  },
  {
   "cell_type": "markdown",
   "metadata": {},
   "source": [
    "Se pasará a codificar la data de acuerdo a los modelos que se van a probar: regresión logística, árboles y bosques.\n",
    "\n",
    "Para la Regresión Logística se codificará con OHE. Y para los árboles y bosques por codificación de etiquetas."
   ]
  },
  {
   "cell_type": "code",
   "execution_count": 29,
   "metadata": {},
   "outputs": [],
   "source": [
    "data_ohe = pd.get_dummies(data, drop_first=True)"
   ]
  },
  {
   "cell_type": "code",
   "execution_count": 30,
   "metadata": {},
   "outputs": [
    {
     "data": {
      "text/html": [
       "<div>\n",
       "<style scoped>\n",
       "    .dataframe tbody tr th:only-of-type {\n",
       "        vertical-align: middle;\n",
       "    }\n",
       "\n",
       "    .dataframe tbody tr th {\n",
       "        vertical-align: top;\n",
       "    }\n",
       "\n",
       "    .dataframe thead th {\n",
       "        text-align: right;\n",
       "    }\n",
       "</style>\n",
       "<table border=\"1\" class=\"dataframe\">\n",
       "  <thead>\n",
       "    <tr style=\"text-align: right;\">\n",
       "      <th></th>\n",
       "      <th>credit_score</th>\n",
       "      <th>age</th>\n",
       "      <th>tenure</th>\n",
       "      <th>balance</th>\n",
       "      <th>num_of_products</th>\n",
       "      <th>has_cr_card</th>\n",
       "      <th>is_active_member</th>\n",
       "      <th>estimated_salary</th>\n",
       "      <th>exited</th>\n",
       "      <th>geography_Germany</th>\n",
       "      <th>geography_Spain</th>\n",
       "      <th>gender_Male</th>\n",
       "    </tr>\n",
       "  </thead>\n",
       "  <tbody>\n",
       "    <tr>\n",
       "      <th>5525</th>\n",
       "      <td>624</td>\n",
       "      <td>51</td>\n",
       "      <td>10</td>\n",
       "      <td>123401.43</td>\n",
       "      <td>2</td>\n",
       "      <td>1</td>\n",
       "      <td>1</td>\n",
       "      <td>127825.25</td>\n",
       "      <td>0</td>\n",
       "      <td>False</td>\n",
       "      <td>False</td>\n",
       "      <td>True</td>\n",
       "    </tr>\n",
       "  </tbody>\n",
       "</table>\n",
       "</div>"
      ],
      "text/plain": [
       "      credit_score  age  tenure    balance  num_of_products  has_cr_card  \\\n",
       "5525           624   51      10  123401.43                2            1   \n",
       "\n",
       "      is_active_member  estimated_salary  exited  geography_Germany  \\\n",
       "5525                 1         127825.25       0              False   \n",
       "\n",
       "      geography_Spain  gender_Male  \n",
       "5525            False         True  "
      ]
     },
     "execution_count": 30,
     "metadata": {},
     "output_type": "execute_result"
    }
   ],
   "source": [
    "data_ohe.sample()"
   ]
  },
  {
   "cell_type": "code",
   "execution_count": 31,
   "metadata": {},
   "outputs": [],
   "source": [
    "encoder = OrdinalEncoder()\n",
    "data_ordinal = pd.DataFrame(encoder.fit_transform(data), columns=data.columns)"
   ]
  },
  {
   "cell_type": "code",
   "execution_count": 32,
   "metadata": {
    "scrolled": true
   },
   "outputs": [
    {
     "data": {
      "text/html": [
       "<div>\n",
       "<style scoped>\n",
       "    .dataframe tbody tr th:only-of-type {\n",
       "        vertical-align: middle;\n",
       "    }\n",
       "\n",
       "    .dataframe tbody tr th {\n",
       "        vertical-align: top;\n",
       "    }\n",
       "\n",
       "    .dataframe thead th {\n",
       "        text-align: right;\n",
       "    }\n",
       "</style>\n",
       "<table border=\"1\" class=\"dataframe\">\n",
       "  <thead>\n",
       "    <tr style=\"text-align: right;\">\n",
       "      <th></th>\n",
       "      <th>credit_score</th>\n",
       "      <th>geography</th>\n",
       "      <th>gender</th>\n",
       "      <th>age</th>\n",
       "      <th>tenure</th>\n",
       "      <th>balance</th>\n",
       "      <th>num_of_products</th>\n",
       "      <th>has_cr_card</th>\n",
       "      <th>is_active_member</th>\n",
       "      <th>estimated_salary</th>\n",
       "      <th>exited</th>\n",
       "    </tr>\n",
       "  </thead>\n",
       "  <tbody>\n",
       "    <tr>\n",
       "      <th>1925</th>\n",
       "      <td>413.0</td>\n",
       "      <td>0.0</td>\n",
       "      <td>1.0</td>\n",
       "      <td>6.0</td>\n",
       "      <td>3.0</td>\n",
       "      <td>0.0</td>\n",
       "      <td>1.0</td>\n",
       "      <td>1.0</td>\n",
       "      <td>0.0</td>\n",
       "      <td>8648.0</td>\n",
       "      <td>0.0</td>\n",
       "    </tr>\n",
       "  </tbody>\n",
       "</table>\n",
       "</div>"
      ],
      "text/plain": [
       "      credit_score  geography  gender  age  tenure  balance  num_of_products  \\\n",
       "1925         413.0        0.0     1.0  6.0     3.0      0.0              1.0   \n",
       "\n",
       "      has_cr_card  is_active_member  estimated_salary  exited  \n",
       "1925          1.0               0.0            8648.0     0.0  "
      ]
     },
     "execution_count": 32,
     "metadata": {},
     "output_type": "execute_result"
    }
   ],
   "source": [
    "data_ordinal.sample()"
   ]
  },
  {
   "cell_type": "markdown",
   "metadata": {},
   "source": [
    "### Estandarización de columnas numéricas y segmentación de conjuntos"
   ]
  },
  {
   "cell_type": "markdown",
   "metadata": {},
   "source": [
    "Debido a la gran diferencia en valores de las columnas numéricas vamos a estandarizar las columnas, restando la media y dividiendo por la desviasión estandar. Esto después de la división de los datos de entrenamiento, validación y pruebas para el dataset para regresión lineal y para los modelos de árboles.\n",
    "\n",
    "Dado que tenemos solo este dataset, lo dividiremos en proporcion 3:1:1"
   ]
  },
  {
   "cell_type": "code",
   "execution_count": 33,
   "metadata": {},
   "outputs": [],
   "source": [
    "# segmentar por características y objetivo\n",
    "target_ohe = data_ohe['exited']\n",
    "features_ohe = data_ohe.drop('exited', axis=1)\n",
    "\n",
    "# segmentar por conjunto de datos\n",
    "# 60 train : 20 valid : 20 test\n",
    "features_train_ohe, features_rest_ohe, target_train_ohe, target_rest_ohe = train_test_split(\n",
    "    features_ohe, target_ohe, test_size=0.40, random_state=12345)\n",
    "\n",
    "features_valid_ohe, features_test_ohe, target_valid_ohe, target_test_ohe = train_test_split(\n",
    "    features_rest_ohe, target_rest_ohe, test_size=0.50, random_state=12345)"
   ]
  },
  {
   "cell_type": "code",
   "execution_count": 34,
   "metadata": {},
   "outputs": [],
   "source": [
    "numeric = ['credit_score', 'age', 'tenure',\n",
    "           'balance', 'num_of_products', 'estimated_salary']"
   ]
  },
  {
   "cell_type": "code",
   "execution_count": 35,
   "metadata": {},
   "outputs": [],
   "source": [
    "# estandarizar las variables numericas\n",
    "scaler = StandardScaler()\n",
    "scaler.fit(features_train_ohe[numeric])\n",
    "features_train_ohe[numeric] = scaler.transform(features_train_ohe[numeric])\n",
    "features_valid_ohe[numeric] = scaler.transform(features_valid_ohe[numeric])\n",
    "features_test_ohe[numeric] = scaler.transform(features_test_ohe[numeric])"
   ]
  },
  {
   "cell_type": "markdown",
   "metadata": {},
   "source": [
    "Ahora para el dataset de los modelos de árboles."
   ]
  },
  {
   "cell_type": "code",
   "execution_count": 36,
   "metadata": {},
   "outputs": [],
   "source": [
    "# segmentar por características y objetivo\n",
    "target_ordinal = data_ordinal['exited']\n",
    "features_ordinal = data_ordinal.drop('exited', axis=1)\n",
    "\n",
    "# segmentar por conjunto de datos\n",
    "# 60 train : 20 valid : 20 test\n",
    "features_train_ordinal, features_rest_ordinal, target_train_ordinal, target_rest_ordinal = train_test_split(\n",
    "    features_ordinal, target_ordinal, test_size=0.40, random_state=12345)\n",
    "\n",
    "features_valid_ordinal, features_test_ordinal, target_valid_ordinal, target_test_ordinal = train_test_split(\n",
    "    features_rest_ordinal, target_rest_ordinal, test_size=0.50, random_state=12345)"
   ]
  },
  {
   "cell_type": "code",
   "execution_count": null,
   "metadata": {},
   "outputs": [],
   "source": [
    "# estandarizar las variables numericas\n",
    "scaler = StandardScaler()\n",
    "scaler.fit(features_train_ordinal[numeric])\n",
    "features_train_ordinal[numeric] = scaler.transform(\n",
    "    features_train_ordinal[numeric])\n",
    "features_valid_ordinal[numeric] = scaler.transform(\n",
    "    features_valid_ordinal[numeric])\n",
    "features_test_ordinal[numeric] = scaler.transform(\n",
    "    features_test_ordinal[numeric])"
   ]
  },
  {
   "cell_type": "markdown",
   "metadata": {},
   "source": [
    "## Modelización de datos"
   ]
  },
  {
   "cell_type": "markdown",
   "metadata": {},
   "source": [
    "### Evaluación de equilibrio en la variable objetivo"
   ]
  },
  {
   "cell_type": "markdown",
   "metadata": {},
   "source": [
    "Ya que está listo el dataset para crear los modelos veamos si la variable objetivo esta balanceada."
   ]
  },
  {
   "cell_type": "code",
   "execution_count": 38,
   "metadata": {
    "scrolled": true
   },
   "outputs": [
    {
     "data": {
      "text/plain": [
       "exited\n",
       "0    79.63\n",
       "1    20.37\n",
       "Name: count, dtype: float64"
      ]
     },
     "execution_count": 38,
     "metadata": {},
     "output_type": "execute_result"
    }
   ],
   "source": [
    "100 * data_ohe['exited'].value_counts() / data_ohe.shape[0]"
   ]
  },
  {
   "cell_type": "markdown",
   "metadata": {},
   "source": [
    "Por la proporción podemos ver que casi el 80% de los clientes siguen con el banco, y el 20% han dejado al banco.\n",
    "Estamos ante un desequilibrio de clase de la variable objetivo.\n",
    "\n",
    "Probemos como predice un modelo de un árbol de decisión, se evaluará con la métrica de exactitud."
   ]
  },
  {
   "cell_type": "markdown",
   "metadata": {},
   "source": [
    "### Modelización con desequilibrio de la variable objetivo"
   ]
  },
  {
   "cell_type": "code",
   "execution_count": 39,
   "metadata": {},
   "outputs": [
    {
     "name": "stdout",
     "output_type": "stream",
     "text": [
      "Exactitud de la predición del modelo de árbol de decisión: 0.772\n",
      "F1 0.46352941176470586\n"
     ]
    }
   ],
   "source": [
    "# modelo desbalanceado\n",
    "model = DecisionTreeClassifier(random_state=12345)\n",
    "model.fit(features_train_ordinal, target_train_ordinal)\n",
    "\n",
    "predict = model.predict(features_valid_ordinal)\n",
    "\n",
    "accuracy = accuracy_score(target_valid_ordinal, predict)\n",
    "f1 = f1_score(target_valid_ordinal, predict)\n",
    "\n",
    "print('Exactitud de la predición del modelo de árbol de decisión:', accuracy)\n",
    "print('F1', f1)"
   ]
  },
  {
   "cell_type": "markdown",
   "metadata": {},
   "source": [
    "El modelo tiene una exactitud del 77.2% es decir 77.2% de sus predicciones fueron reales.\n",
    "\n",
    "Realizemos una prueba de cordura para ver si un modelo constante puede predecir mejor que el modelo, si el modelo constante arroja mejor exactitud nuestro modelo de árbol de decisión es obsoleto y requerirá otro tipo de tratamiento para mejorar la métrica."
   ]
  },
  {
   "cell_type": "markdown",
   "metadata": {},
   "source": [
    "### Prueba de cordura"
   ]
  },
  {
   "cell_type": "code",
   "execution_count": 40,
   "metadata": {},
   "outputs": [
    {
     "name": "stdout",
     "output_type": "stream",
     "text": [
      "Exactitud de la predicción del modelo constante: 0.791\n",
      "F1 0.0\n"
     ]
    }
   ],
   "source": [
    "# modelo constante\n",
    "pred_constant = pd.Series(0, index=features_valid_ordinal.index)\n",
    "\n",
    "accuracy = accuracy_score(target_valid_ordinal, pred_constant)\n",
    "f1 = f1_score(target_valid_ordinal, pred_constant)\n",
    "\n",
    "print('Exactitud de la predicción del modelo constante:', accuracy)\n",
    "print('F1', f1)"
   ]
  },
  {
   "cell_type": "markdown",
   "metadata": {},
   "source": [
    "El modelo constante obtuvo mayor exactitud, por lo que nuestro modelo requiere ajustes a ese desequilibrio identificado."
   ]
  },
  {
   "cell_type": "markdown",
   "metadata": {},
   "source": [
    "### Modelización con el algoritmo de regresión logística balanceada"
   ]
  },
  {
   "cell_type": "code",
   "execution_count": 41,
   "metadata": {},
   "outputs": [
    {
     "name": "stdout",
     "output_type": "stream",
     "text": [
      "best_threshold 0.26\n",
      "best_f1: 0.505091649694501\n",
      "best_auc_roc 0.6967771399536653\n",
      "[[1266  316]\n",
      " [ 170  248]]\n"
     ]
    }
   ],
   "source": [
    "model = LogisticRegression(random_state=12345, solver='liblinear')\n",
    "model.fit(features_train_ohe, target_train_ohe)\n",
    "\n",
    "probabilities_valid = model.predict_proba(features_valid_ohe)\n",
    "probabilities_one_valid = probabilities_valid[:, 1]\n",
    "\n",
    "best_f1 = 0\n",
    "best_threshold = 0\n",
    "best_auc_roc = 0\n",
    "best_cm = 0\n",
    "\n",
    "for threshold in np.arange(0, 0.3, 0.02):\n",
    "    predict = probabilities_one_valid > threshold\n",
    "\n",
    "    f1 = f1_score(target_valid_ohe, predict)\n",
    "    auc_roc = roc_auc_score(target_valid_ohe, predict)\n",
    "    cm = confusion_matrix(target_valid_ohe, predict)\n",
    "    if f1 > best_f1:\n",
    "        best_f1 = f1\n",
    "        best_threshold = threshold\n",
    "        best_auc_roc = auc_roc\n",
    "        best_cm = cm\n",
    "\n",
    "lr = [best_threshold, best_f1, best_auc_roc]\n",
    "\n",
    "print('best_threshold', best_threshold)\n",
    "print('best_f1:', best_f1)\n",
    "print('best_auc_roc', best_auc_roc)\n",
    "print(best_cm)"
   ]
  },
  {
   "cell_type": "markdown",
   "metadata": {},
   "source": [
    "El modelo logró un F1 de `0.505091649694501` (mayor al del modelo desbalanceado de árbol de decisión: `0.4635294117647059`) con un umbral del `0.26`, sin embargo nos han pedido un modelo con el F1 mayor a 0.59.\n",
    "\n",
    "Vamos a crear un modelo con árbol de decisión con los datos balanceados."
   ]
  },
  {
   "cell_type": "markdown",
   "metadata": {},
   "source": [
    "### Modelización con el algoritmo de árbol de decisión balanceada"
   ]
  },
  {
   "cell_type": "code",
   "execution_count": 42,
   "metadata": {
    "scrolled": true
   },
   "outputs": [
    {
     "name": "stdout",
     "output_type": "stream",
     "text": [
      "F1 del mejor modelo de árbol de decisión en el conjunto de validación: 0.6082949308755761 ,best_depth: 5 ,best_threshold 0.26\n",
      "El AUC_ROC del mejor modelo evaluado por F1: 0.7570031272872446\n",
      "[[1396  186]\n",
      " [ 154  264]]\n"
     ]
    }
   ],
   "source": [
    "best_depth = 0\n",
    "best_threshold = 0\n",
    "best_f1 = 0\n",
    "best_auc_roc = 0\n",
    "best_cm = 0\n",
    "\n",
    "for depth in range(1, 46):\n",
    "    # inicializa el constructor de modelos con los parámetros random_state=12345 y max_depth=depth\n",
    "    model = DecisionTreeClassifier(random_state=12345, max_depth=depth)\n",
    "    # entrena el modelo en el conjunto de entrenamiento\n",
    "    model.fit(features_train_ordinal, target_train_ordinal)\n",
    "\n",
    "    # obtén las predicciones del modelo en el conjunto de validación\n",
    "    probabilities_valid = model.predict_proba(features_valid_ordinal)\n",
    "    probabilities_one_valid = probabilities_valid[:, 1]\n",
    "\n",
    "    for threshold in np.arange(0, 0.3, 0.02):\n",
    "        predict = probabilities_one_valid > threshold\n",
    "\n",
    "        f1 = f1_score(target_valid_ordinal, predict)\n",
    "        auc_roc = roc_auc_score(target_valid_ordinal, predict)\n",
    "        cm = confusion_matrix(target_valid_ordinal, predict)\n",
    "        if f1 > best_f1:\n",
    "            best_depth = depth\n",
    "            best_threshold = threshold\n",
    "            best_f1 = f1\n",
    "            best_auc_roc = auc_roc\n",
    "            best_cm = cm\n",
    "dtc = [best_threshold, best_f1, best_auc_roc]\n",
    "\n",
    "print(\"F1 del mejor modelo de árbol de decisión en el conjunto de validación:\",\n",
    "      best_f1, ',best_depth:', best_depth, ',best_threshold', best_threshold)\n",
    "print(\"El AUC_ROC del mejor modelo evaluado por F1:\", best_auc_roc)\n",
    "print(best_cm)"
   ]
  },
  {
   "cell_type": "markdown",
   "metadata": {},
   "source": [
    "El modelo de árbol de decisión que mejor métrica F1 obtuvo fue con una profundidad de 5 y un umbral de `0.26` con valor de: `0.608294930875576`.\n",
    "\n",
    "Evaluemos el modelo de bosque aleatorio con una nueva técnica de balanceo."
   ]
  },
  {
   "cell_type": "markdown",
   "metadata": {},
   "source": [
    "### Modelización con el algoritmo de bosque aleatorio balanceada"
   ]
  },
  {
   "cell_type": "markdown",
   "metadata": {},
   "source": [
    "Primero veamos cuanta escala tiene la variable objetivo. Y cual es la fracción de la clase positiva frente a la clase negativa."
   ]
  },
  {
   "cell_type": "code",
   "execution_count": null,
   "metadata": {},
   "outputs": [
    {
     "data": {
      "text/plain": [
       "4.016722408026756"
      ]
     },
     "execution_count": 43,
     "metadata": {},
     "output_type": "execute_result"
    }
   ],
   "source": [
    "repeat = target_train_ohe.value_counts(\n",
    ")[0] / target_train_ohe.value_counts()[1]\n",
    "\n",
    "\n",
    "repeat"
   ]
  },
  {
   "cell_type": "code",
   "execution_count": null,
   "metadata": {},
   "outputs": [
    {
     "data": {
      "text/plain": [
       "0.24895920066611157"
      ]
     },
     "execution_count": 44,
     "metadata": {},
     "output_type": "execute_result"
    }
   ],
   "source": [
    "fraction = target_train_ohe.value_counts(\n",
    ")[1] / target_train_ohe.value_counts()[0]\n",
    "\n",
    "\n",
    "fraction"
   ]
  },
  {
   "cell_type": "code",
   "execution_count": 45,
   "metadata": {},
   "outputs": [],
   "source": [
    "def upsample(features, target, repeat):\n",
    "    features_zeros = features[target == 0]\n",
    "    features_ones = features[target == 1]\n",
    "    target_zeros = target[target == 0]\n",
    "    target_ones = target[target == 1]\n",
    "\n",
    "    features_upsampled = pd.concat([features_zeros] + [features_ones] * repeat)\n",
    "    target_upsampled = pd.concat([target_zeros] + [target_ones] * repeat)\n",
    "\n",
    "    features_upsampled, target_upsampled = shuffle(\n",
    "        features_upsampled, target_upsampled, random_state=12345)\n",
    "    return features_upsampled, target_upsampled"
   ]
  },
  {
   "cell_type": "code",
   "execution_count": 46,
   "metadata": {},
   "outputs": [],
   "source": [
    "def downsample(features, target, fraction):\n",
    "    features_zeros = features[target == 0]\n",
    "    features_ones = features[target == 1]\n",
    "    target_zeros = target[target == 0]\n",
    "    target_ones = target[target == 1]\n",
    "\n",
    "    features_downsampled = pd.concat([features_zeros.sample(\n",
    "        frac=fraction, random_state=12345)] + [features_ones])\n",
    "    target_downsampled = pd.concat([target_zeros.sample(\n",
    "        frac=fraction, random_state=12345)] + [target_ones])\n",
    "\n",
    "    features_downsampled, target_downsampled = shuffle(\n",
    "        features_downsampled, target_downsampled, random_state=12345)\n",
    "\n",
    "    return features_downsampled, target_downsampled"
   ]
  },
  {
   "cell_type": "markdown",
   "metadata": {},
   "source": [
    "Optaremos por el sobremuestreo para el modelo de bosque aleatorio."
   ]
  },
  {
   "cell_type": "code",
   "execution_count": null,
   "metadata": {
    "scrolled": true
   },
   "outputs": [
    {
     "name": "stdout",
     "output_type": "stream",
     "text": [
      "F1 del mejor modelo de bosque aleatorio en el conjunto de validación: 0.46352941176470586 n_estimators: 10 best_depth: 1\n",
      "El AUC_ROC del mejor modelo evaluado por F1: 0.733061535576673\n",
      "[[1347  235]\n",
      " [ 221  197]]\n"
     ]
    }
   ],
   "source": [
    "features_upsampled, target_upsampled = upsample(\n",
    "    features_train_ordinal, target_train_ordinal, round(repeat))\n",
    "\n",
    "\n",
    "\n",
    "best_est = 0\n",
    "\n",
    "\n",
    "best_depth = 0\n",
    "\n",
    "\n",
    "best_f1 = 0\n",
    "\n",
    "\n",
    "best_auc_roc = 0\n",
    "\n",
    "\n",
    "best_cm = 0\n",
    "\n",
    "\n",
    "for est in range(10, 51, 10):\n",
    "\n",
    "\n",
    "    for depth in range(1, 11):\n",
    "\n",
    "\n",
    "        # inicializa el constructor de modelos con los parámetros random_state=12345, n_estimators=est y max_depth=depth\n",
    "\n",
    "\n",
    "        model = RandomForestClassifier(\n",
    "            random_state=12345, n_estimators=est, max_depth=depth)\n",
    "\n",
    "\n",
    "        # entrena el modelo en el conjunto de entrenamiento\n",
    "\n",
    "\n",
    "        model.fit(features_upsampled, target_upsampled)\n",
    "\n",
    "\n",
    "        # obtén las predicciones del modelo en el conjunto de validación\n",
    "\n",
    "\n",
    "        predic = model.predict(features_valid_ordinal)\n",
    "\n",
    "\n",
    "        probabilities_valid = model.predict_proba(features_valid_ordinal)\n",
    "\n",
    "\n",
    "        probabilities_one_valid = probabilities_valid[:, 1]\n",
    "\n",
    "\n",
    "        # calcula F1 y auc_roc en el conjunto de validación\n",
    "\n",
    "\n",
    "        f1 = f1_score(target_valid_ordinal, predict)\n",
    "\n",
    "\n",
    "        auc_roc = roc_auc_score(target_valid_ordinal, predic)\n",
    "\n",
    "\n",
    "        cm = confusion_matrix(target_valid_ordinal, predict)\n",
    "\n",
    "\n",
    "        if f1 > best_f1:\n",
    "            best_f1 = f1\n",
    "            best_auc_roc = auc_roc\n",
    "            best_est = est\n",
    "\n",
    "\n",
    "            best_depth = depth\n",
    "            best_cm = cm\n",
    "\n",
    "\n",
    "\n",
    "print(\"F1 del mejor modelo de bosque aleatorio en el conjunto de validación:\",\n",
    "      best_f1, \"n_estimators:\", best_est, \"best_depth:\", best_depth)\n",
    "\n",
    "\n",
    "print(\"El AUC_ROC del mejor modelo evaluado por F1:\", best_auc_roc)\n",
    "\n",
    "\n",
    "print(best_cm)"
   ]
  },
  {
   "cell_type": "markdown",
   "metadata": {},
   "source": [
    "Parece que este balanceo no resultó la mejor opción, la métrica F1 bajo considerablemente.\n",
    "Cambiemos el método de balanceo al de umbral."
   ]
  },
  {
   "cell_type": "code",
   "execution_count": 48,
   "metadata": {
    "scrolled": true
   },
   "outputs": [
    {
     "name": "stdout",
     "output_type": "stream",
     "text": [
      "F1 del mejor modelo de bosque aleatorio en el conjunto de validación: 0.6334745762711864 n_estimators: 20 best_depth: 8 best_threshold 0.24\n",
      "El AUC_ROC del mejor modelo evaluado por F1: 0.7859108753379829\n",
      "[[1355  227]\n",
      " [ 119  299]]\n"
     ]
    }
   ],
   "source": [
    "best_est = 0\n",
    "best_depth = 0\n",
    "best_threshold = 0\n",
    "best_f1 = 0\n",
    "best_auc_roc = 0\n",
    "best_cm = 0\n",
    "for est in range(10, 51, 10):\n",
    "    for depth in range(1, 11):\n",
    "        # inicializa el constructor de modelos con los parámetros random_state=12345, n_estimators=est y max_depth=depth\n",
    "        model = RandomForestClassifier(\n",
    "            random_state=12345, n_estimators=est, max_depth=depth)\n",
    "\n",
    "        # entrena el modelo en el conjunto de entrenamiento\n",
    "        model.fit(features_train_ordinal, target_train_ordinal)\n",
    "\n",
    "        # obtén las predicciones del modelo en el conjunto de validación\n",
    "        probabilities_valid = model.predict_proba(features_valid_ordinal)\n",
    "        probabilities_one_valid = probabilities_valid[:, 1]\n",
    "\n",
    "        for threshold in np.arange(0, 0.3, 0.02):\n",
    "            predict = probabilities_one_valid > threshold\n",
    "\n",
    "            f1 = f1_score(target_valid_ordinal, predict)\n",
    "            auc_roc = roc_auc_score(target_valid_ordinal, predict)\n",
    "            cm = confusion_matrix(target_valid_ordinal, predict)\n",
    "\n",
    "            if f1 > best_f1:\n",
    "                best_est = est\n",
    "                best_depth = depth\n",
    "                best_threshold = threshold\n",
    "                best_f1 = f1\n",
    "                best_auc_roc = auc_roc\n",
    "                best_cm = cm\n",
    "rfc = [best_threshold, best_f1, best_auc_roc]\n",
    "\n",
    "print('F1 del mejor modelo de bosque aleatorio en el conjunto de validación:', best_f1,\n",
    "      \"n_estimators:\", best_est, \"best_depth:\", best_depth, 'best_threshold', best_threshold)\n",
    "print(\"El AUC_ROC del mejor modelo evaluado por F1:\", best_auc_roc)\n",
    "print(best_cm)"
   ]
  },
  {
   "cell_type": "markdown",
   "metadata": {},
   "source": [
    "La métrica F1 ha aumentado significativamente con cambiar el método de balanceo, se logró obtener un F1 de `0.6334745762711864` con un modelo de 20 árboles, 8 nodos de profundidad y un umbral de `0.24`."
   ]
  },
  {
   "cell_type": "markdown",
   "metadata": {},
   "source": [
    "### Resumen de los mejores modelos"
   ]
  },
  {
   "cell_type": "markdown",
   "metadata": {},
   "source": [
    "Veamos las métricas de los 3 mejores modelos."
   ]
  },
  {
   "cell_type": "code",
   "execution_count": null,
   "metadata": {},
   "outputs": [
    {
     "data": {
      "text/html": [
       "<div>\n",
       "<style scoped>\n",
       "    .dataframe tbody tr th:only-of-type {\n",
       "        vertical-align: middle;\n",
       "    }\n",
       "\n",
       "    .dataframe tbody tr th {\n",
       "        vertical-align: top;\n",
       "    }\n",
       "\n",
       "    .dataframe thead th {\n",
       "        text-align: right;\n",
       "    }\n",
       "</style>\n",
       "<table border=\"1\" class=\"dataframe\">\n",
       "  <thead>\n",
       "    <tr style=\"text-align: right;\">\n",
       "      <th></th>\n",
       "      <th>regresión logística</th>\n",
       "      <th>árbol de decisión</th>\n",
       "      <th>bosque aleatorio</th>\n",
       "    </tr>\n",
       "  </thead>\n",
       "  <tbody>\n",
       "    <tr>\n",
       "      <th>umbral</th>\n",
       "      <td>0.260000</td>\n",
       "      <td>0.260000</td>\n",
       "      <td>0.240000</td>\n",
       "    </tr>\n",
       "    <tr>\n",
       "      <th>F1</th>\n",
       "      <td>0.505092</td>\n",
       "      <td>0.608295</td>\n",
       "      <td>0.633475</td>\n",
       "    </tr>\n",
       "    <tr>\n",
       "      <th>AUC_ROC</th>\n",
       "      <td>0.696777</td>\n",
       "      <td>0.757003</td>\n",
       "      <td>0.785911</td>\n",
       "    </tr>\n",
       "  </tbody>\n",
       "</table>\n",
       "</div>"
      ],
      "text/plain": [
       "         regresión logística  árbol de decisión  bosque aleatorio\n",
       "umbral              0.260000           0.260000          0.240000\n",
       "F1                  0.505092           0.608295          0.633475\n",
       "AUC_ROC             0.696777           0.757003          0.785911"
      ]
     },
     "execution_count": 49,
     "metadata": {},
     "output_type": "execute_result"
    }
   ],
   "source": [
    "metricas = {'regresión logística': lr,\n",
    "            'árbol de decisión': dtc, 'bosque aleatorio': rfc}\n",
    "\n",
    "\n",
    "metricas = pd.DataFrame(metricas, index=[\"umbral\", \"F1\", \"AUC_ROC\"])\n",
    "\n",
    "\n",
    "metricas"
   ]
  },
  {
   "cell_type": "markdown",
   "metadata": {},
   "source": [
    "Los tres modelos arrojaron cifras superiores a si consideraramos un modelo aleatorio de `AUC_ROC = 0.50`, el modelo de bosque aleatorio se posiciona como el mejor, Evaluando con `F1`, la regresión logística dio un `F1 = 0.505092`, el árbol de decisión un `F1 = 0.608295` y el bosque aleatorio un `F1 = 0.633475`, nuevamente el modelo de bosque aleatorio se perfila como el mejor de los 3."
   ]
  },
  {
   "cell_type": "markdown",
   "metadata": {},
   "source": [
    "### Selección del mejor modelo"
   ]
  },
  {
   "cell_type": "markdown",
   "metadata": {},
   "source": [
    "Hemos descubierto que el factor que aumentó las métricas es el umbral de clasificación y el modelo que ajustó la mayoría de los datos fue el bosque aleatorio con un F1 de: `0.633475` y un AUC_ROC de: `0.785911` superiores a los demás modelos.\n",
    "\n",
    "Teniendo esto en consideración haremos la prueba final con el conjunto reservado para el mejor modelo."
   ]
  },
  {
   "cell_type": "markdown",
   "metadata": {},
   "source": [
    "### Prueba final para el modelo seleccionado"
   ]
  },
  {
   "cell_type": "code",
   "execution_count": 50,
   "metadata": {},
   "outputs": [
    {
     "name": "stdout",
     "output_type": "stream",
     "text": [
      "F1:  0.601025641025641 AUC_ROC:  0.7642177519334524\n"
     ]
    }
   ],
   "source": [
    "est = 20\n",
    "depth = 8\n",
    "threshold = 0.24\n",
    "\n",
    "model = RandomForestClassifier(\n",
    "    random_state=12345, n_estimators=est, max_depth=depth)\n",
    "\n",
    "model.fit(features_train_ordinal, target_train_ordinal)\n",
    "\n",
    "probabilities_valid = model.predict_proba(features_test_ordinal)\n",
    "probabilities_one_valid = probabilities_valid[:, 1]\n",
    "\n",
    "predict = probabilities_one_valid > threshold\n",
    "\n",
    "f1 = f1_score(target_test_ordinal, predict)\n",
    "auc_roc = roc_auc_score(target_test_ordinal, predict)\n",
    "cm = confusion_matrix(target_test_ordinal, predict)\n",
    "print('F1: ', f1, 'AUC_ROC: ', auc_roc)"
   ]
  },
  {
   "cell_type": "markdown",
   "metadata": {},
   "source": [
    "Si bien las métricas no superaron los resultados con el conjunto de validación pero sí superaron la restricción inicial: F1 mayor o igual a `0.59`.\n",
    "\n",
    "El modelo resultó predecir suficientemente bien los datos de prueba."
   ]
  },
  {
   "cell_type": "markdown",
   "metadata": {},
   "source": [
    "## Conclusión"
   ]
  },
  {
   "cell_type": "markdown",
   "metadata": {},
   "source": [
    "Resumiendo los hallazgos, con el modelo seleccionado podemos hacer que Beta Bank implemente alguna estrategia de marketing que ofrezca promociones, descuentos, productos elite para los usuarios que el modelo haya predicho como positivos para dejar el banco.\n",
    "\n",
    "Estas promociones no siempre llegarán con certeza a todos los usuarios que realmente dejarán el banco pero aseguramos que una gran parte caerá dentro de la zona positiva.\n",
    "\n",
    "Dado que los banqueros decidieron que es menos costoso salvar a los clientes existentes optamos por compartir el modelo definitivo."
   ]
  }
 ],
 "metadata": {
  "ExecuteTimeLog": [
   {
    "duration": 4898,
    "start_time": "2024-08-04T03:57:54.479Z"
   },
   {
    "duration": 40,
    "start_time": "2024-08-04T03:58:02.077Z"
   },
   {
    "duration": 22,
    "start_time": "2024-08-04T03:58:12.849Z"
   },
   {
    "duration": 16,
    "start_time": "2024-08-04T04:18:20.734Z"
   },
   {
    "duration": 7,
    "start_time": "2024-08-04T04:23:00.120Z"
   },
   {
    "duration": 7,
    "start_time": "2024-08-04T04:23:07.660Z"
   },
   {
    "duration": 8,
    "start_time": "2024-08-04T04:23:32.206Z"
   },
   {
    "duration": 8,
    "start_time": "2024-08-04T04:25:19.730Z"
   },
   {
    "duration": 4977,
    "start_time": "2024-08-04T20:47:46.278Z"
   },
   {
    "duration": 41,
    "start_time": "2024-08-04T20:47:51.258Z"
   },
   {
    "duration": 24,
    "start_time": "2024-08-04T20:47:51.303Z"
   },
   {
    "duration": 30,
    "start_time": "2024-08-04T20:47:51.338Z"
   },
   {
    "duration": 9,
    "start_time": "2024-08-04T20:47:51.371Z"
   },
   {
    "duration": 11,
    "start_time": "2024-08-04T20:47:51.383Z"
   },
   {
    "duration": 37,
    "start_time": "2024-08-04T20:47:51.397Z"
   },
   {
    "duration": 12,
    "start_time": "2024-08-04T20:47:51.438Z"
   },
   {
    "duration": 8,
    "start_time": "2024-08-04T20:47:51.453Z"
   },
   {
    "duration": 9,
    "start_time": "2024-08-04T20:50:17.967Z"
   },
   {
    "duration": 13,
    "start_time": "2024-08-04T20:50:58.334Z"
   },
   {
    "duration": 7,
    "start_time": "2024-08-04T20:51:14.701Z"
   },
   {
    "duration": 13,
    "start_time": "2024-08-04T20:54:21.850Z"
   },
   {
    "duration": 39,
    "start_time": "2024-08-04T20:56:01.193Z"
   },
   {
    "duration": 40,
    "start_time": "2024-08-04T20:56:16.730Z"
   },
   {
    "duration": 6,
    "start_time": "2024-08-04T20:56:55.684Z"
   },
   {
    "duration": 38,
    "start_time": "2024-08-04T20:58:28.615Z"
   },
   {
    "duration": 28,
    "start_time": "2024-08-04T20:58:37.058Z"
   },
   {
    "duration": 28,
    "start_time": "2024-08-04T20:58:50.574Z"
   },
   {
    "duration": 26,
    "start_time": "2024-08-04T20:59:01.520Z"
   },
   {
    "duration": 22,
    "start_time": "2024-08-04T21:00:10.416Z"
   },
   {
    "duration": 35,
    "start_time": "2024-08-04T21:02:49.838Z"
   },
   {
    "duration": 25,
    "start_time": "2024-08-04T21:10:58.904Z"
   },
   {
    "duration": 12,
    "start_time": "2024-08-04T21:11:25.123Z"
   },
   {
    "duration": 10,
    "start_time": "2024-08-04T21:12:00.605Z"
   },
   {
    "duration": 18,
    "start_time": "2024-08-04T21:12:20.541Z"
   },
   {
    "duration": 5,
    "start_time": "2024-08-04T21:12:35.255Z"
   },
   {
    "duration": 10,
    "start_time": "2024-08-04T21:12:44.188Z"
   },
   {
    "duration": 7,
    "start_time": "2024-08-04T21:12:53.561Z"
   },
   {
    "duration": 12,
    "start_time": "2024-08-04T21:13:30.281Z"
   },
   {
    "duration": 6,
    "start_time": "2024-08-04T21:14:24.410Z"
   },
   {
    "duration": 7,
    "start_time": "2024-08-04T21:30:38.245Z"
   },
   {
    "duration": 396,
    "start_time": "2024-08-04T21:31:13.561Z"
   },
   {
    "duration": 532,
    "start_time": "2024-08-04T21:31:23.414Z"
   },
   {
    "duration": 22,
    "start_time": "2024-08-04T21:31:31.553Z"
   },
   {
    "duration": 80,
    "start_time": "2024-08-04T21:31:58.467Z"
   },
   {
    "duration": 22,
    "start_time": "2024-08-04T21:32:03.842Z"
   },
   {
    "duration": 740,
    "start_time": "2024-08-04T21:34:28.171Z"
   },
   {
    "duration": 143,
    "start_time": "2024-08-04T21:35:05.155Z"
   },
   {
    "duration": 8,
    "start_time": "2024-08-04T21:36:28.007Z"
   },
   {
    "duration": 23,
    "start_time": "2024-08-04T21:36:34.128Z"
   },
   {
    "duration": 17,
    "start_time": "2024-08-04T21:37:27.425Z"
   },
   {
    "duration": 29,
    "start_time": "2024-08-04T21:37:57.411Z"
   },
   {
    "duration": 25,
    "start_time": "2024-08-04T21:38:18.634Z"
   },
   {
    "duration": 9,
    "start_time": "2024-08-04T21:38:21.091Z"
   },
   {
    "duration": 20,
    "start_time": "2024-08-04T21:38:45.249Z"
   },
   {
    "duration": 8,
    "start_time": "2024-08-04T21:39:03.632Z"
   },
   {
    "duration": 10,
    "start_time": "2024-08-04T21:39:53.800Z"
   },
   {
    "duration": 10,
    "start_time": "2024-08-04T21:40:09.733Z"
   },
   {
    "duration": 9,
    "start_time": "2024-08-04T21:40:35.251Z"
   },
   {
    "duration": 10,
    "start_time": "2024-08-04T21:40:37.678Z"
   },
   {
    "duration": 12,
    "start_time": "2024-08-04T21:47:42.456Z"
   },
   {
    "duration": 11,
    "start_time": "2024-08-04T21:48:03.048Z"
   },
   {
    "duration": 11,
    "start_time": "2024-08-04T21:48:07.933Z"
   },
   {
    "duration": 4,
    "start_time": "2024-08-05T02:57:34.946Z"
   },
   {
    "duration": 1347,
    "start_time": "2024-08-05T02:58:07.762Z"
   },
   {
    "duration": 30,
    "start_time": "2024-08-05T02:58:09.112Z"
   },
   {
    "duration": 23,
    "start_time": "2024-08-05T02:58:09.144Z"
   },
   {
    "duration": 17,
    "start_time": "2024-08-05T02:58:09.171Z"
   },
   {
    "duration": 42,
    "start_time": "2024-08-05T02:58:09.191Z"
   },
   {
    "duration": 23,
    "start_time": "2024-08-05T02:58:09.236Z"
   },
   {
    "duration": 13,
    "start_time": "2024-08-05T02:58:09.262Z"
   },
   {
    "duration": 8,
    "start_time": "2024-08-05T02:58:09.278Z"
   },
   {
    "duration": 47,
    "start_time": "2024-08-05T02:58:09.292Z"
   },
   {
    "duration": 6,
    "start_time": "2024-08-05T03:01:16.658Z"
   },
   {
    "duration": 465,
    "start_time": "2024-08-05T03:01:38.494Z"
   },
   {
    "duration": 6,
    "start_time": "2024-08-05T03:01:44.395Z"
   },
   {
    "duration": 25,
    "start_time": "2024-08-05T03:02:08.488Z"
   },
   {
    "duration": 7,
    "start_time": "2024-08-05T03:02:44.820Z"
   },
   {
    "duration": 7,
    "start_time": "2024-08-05T03:03:10.250Z"
   },
   {
    "duration": 5187,
    "start_time": "2024-08-09T15:26:36.721Z"
   },
   {
    "duration": 41,
    "start_time": "2024-08-09T15:26:44.907Z"
   },
   {
    "duration": 22,
    "start_time": "2024-08-09T15:26:49.641Z"
   },
   {
    "duration": 5,
    "start_time": "2024-08-09T15:31:08.195Z"
   },
   {
    "duration": 21,
    "start_time": "2024-08-09T15:31:12.511Z"
   },
   {
    "duration": 6,
    "start_time": "2024-08-09T15:57:43.642Z"
   },
   {
    "duration": 18,
    "start_time": "2024-08-09T15:57:50.671Z"
   },
   {
    "duration": 17,
    "start_time": "2024-08-09T16:01:42.218Z"
   },
   {
    "duration": 208,
    "start_time": "2024-08-09T16:01:53.222Z"
   },
   {
    "duration": 7,
    "start_time": "2024-08-09T16:02:09.770Z"
   },
   {
    "duration": 1107,
    "start_time": "2024-08-09T16:02:15.587Z"
   },
   {
    "duration": 25,
    "start_time": "2024-08-09T16:04:56.803Z"
   },
   {
    "duration": 15,
    "start_time": "2024-08-09T16:06:06.199Z"
   },
   {
    "duration": 18,
    "start_time": "2024-08-09T16:06:12.745Z"
   },
   {
    "duration": 18,
    "start_time": "2024-08-09T16:07:55.349Z"
   },
   {
    "duration": 463,
    "start_time": "2024-08-09T16:13:47.522Z"
   },
   {
    "duration": 16,
    "start_time": "2024-08-09T16:15:58.173Z"
   },
   {
    "duration": 123,
    "start_time": "2024-08-09T16:21:59.553Z"
   },
   {
    "duration": 691,
    "start_time": "2024-08-09T16:32:06.794Z"
   },
   {
    "duration": 37,
    "start_time": "2024-08-09T16:32:23.792Z"
   },
   {
    "duration": 4,
    "start_time": "2024-08-09T18:35:58.079Z"
   },
   {
    "duration": 5182,
    "start_time": "2024-08-09T21:40:53.813Z"
   },
   {
    "duration": 38,
    "start_time": "2024-08-09T21:40:58.999Z"
   },
   {
    "duration": 23,
    "start_time": "2024-08-09T21:40:59.039Z"
   },
   {
    "duration": 5,
    "start_time": "2024-08-09T21:40:59.067Z"
   },
   {
    "duration": 5,
    "start_time": "2024-08-09T21:40:59.076Z"
   },
   {
    "duration": 48,
    "start_time": "2024-08-09T21:40:59.084Z"
   },
   {
    "duration": 7,
    "start_time": "2024-08-09T21:40:59.135Z"
   },
   {
    "duration": 23,
    "start_time": "2024-08-09T21:40:59.145Z"
   },
   {
    "duration": 13,
    "start_time": "2024-08-09T21:40:59.171Z"
   },
   {
    "duration": 5,
    "start_time": "2024-08-09T21:40:59.223Z"
   },
   {
    "duration": 1366,
    "start_time": "2024-08-09T21:40:59.231Z"
   },
   {
    "duration": 9,
    "start_time": "2024-08-09T21:41:05.809Z"
   },
   {
    "duration": 12,
    "start_time": "2024-08-09T22:42:57.948Z"
   },
   {
    "duration": 308,
    "start_time": "2024-08-09T22:43:30.273Z"
   },
   {
    "duration": 1467,
    "start_time": "2024-08-09T22:43:38.792Z"
   },
   {
    "duration": 1408,
    "start_time": "2024-08-09T22:43:56.519Z"
   },
   {
    "duration": 26,
    "start_time": "2024-08-09T22:44:01.592Z"
   },
   {
    "duration": 21,
    "start_time": "2024-08-09T22:44:04.706Z"
   },
   {
    "duration": 6,
    "start_time": "2024-08-09T22:44:08.060Z"
   },
   {
    "duration": 16,
    "start_time": "2024-08-09T22:44:11.593Z"
   },
   {
    "duration": 67,
    "start_time": "2024-08-09T22:44:19.030Z"
   },
   {
    "duration": 23,
    "start_time": "2024-08-09T22:44:23.152Z"
   },
   {
    "duration": 1056,
    "start_time": "2024-08-09T22:45:47.907Z"
   },
   {
    "duration": 122,
    "start_time": "2024-08-09T22:58:36.950Z"
   },
   {
    "duration": 22,
    "start_time": "2024-08-09T23:02:08.186Z"
   },
   {
    "duration": 24,
    "start_time": "2024-08-09T23:04:25.755Z"
   },
   {
    "duration": 30,
    "start_time": "2024-08-09T23:04:29.644Z"
   },
   {
    "duration": 1416,
    "start_time": "2024-08-09T23:05:17.399Z"
   },
   {
    "duration": 25,
    "start_time": "2024-08-09T23:05:21.194Z"
   },
   {
    "duration": 22,
    "start_time": "2024-08-09T23:05:25.963Z"
   },
   {
    "duration": 18,
    "start_time": "2024-08-09T23:05:32.028Z"
   },
   {
    "duration": 8,
    "start_time": "2024-08-09T23:05:43.810Z"
   },
   {
    "duration": 24,
    "start_time": "2024-08-09T23:06:26.464Z"
   },
   {
    "duration": 83,
    "start_time": "2024-08-09T23:06:58.983Z"
   },
   {
    "duration": 20,
    "start_time": "2024-08-09T23:07:10.414Z"
   },
   {
    "duration": 16,
    "start_time": "2024-08-09T23:07:16.548Z"
   },
   {
    "duration": 5,
    "start_time": "2024-08-09T23:07:30.472Z"
   },
   {
    "duration": 15,
    "start_time": "2024-08-09T23:07:37.581Z"
   },
   {
    "duration": 17,
    "start_time": "2024-08-09T23:07:59.778Z"
   },
   {
    "duration": 5,
    "start_time": "2024-08-09T23:08:11.285Z"
   },
   {
    "duration": 1420,
    "start_time": "2024-08-09T23:11:20.027Z"
   },
   {
    "duration": 24,
    "start_time": "2024-08-09T23:11:24.825Z"
   },
   {
    "duration": 20,
    "start_time": "2024-08-09T23:11:27.156Z"
   },
   {
    "duration": 18,
    "start_time": "2024-08-09T23:11:30.768Z"
   },
   {
    "duration": 10,
    "start_time": "2024-08-09T23:11:34.826Z"
   },
   {
    "duration": 23,
    "start_time": "2024-08-09T23:11:39.361Z"
   },
   {
    "duration": 84,
    "start_time": "2024-08-09T23:11:51.748Z"
   },
   {
    "duration": 16,
    "start_time": "2024-08-09T23:11:57.148Z"
   },
   {
    "duration": 22,
    "start_time": "2024-08-09T23:12:07.119Z"
   },
   {
    "duration": 5,
    "start_time": "2024-08-09T23:12:37.642Z"
   },
   {
    "duration": 22,
    "start_time": "2024-08-09T23:15:43.265Z"
   },
   {
    "duration": 209,
    "start_time": "2024-08-09T23:17:51.677Z"
   },
   {
    "duration": 15,
    "start_time": "2024-08-09T23:18:06.410Z"
   },
   {
    "duration": 6,
    "start_time": "2024-08-09T23:30:43.431Z"
   },
   {
    "duration": 6,
    "start_time": "2024-08-09T23:30:50.969Z"
   },
   {
    "duration": 13,
    "start_time": "2024-08-09T23:37:01.502Z"
   },
   {
    "duration": 16,
    "start_time": "2024-08-09T23:37:03.831Z"
   },
   {
    "duration": 16,
    "start_time": "2024-08-09T23:37:38.978Z"
   },
   {
    "duration": 28,
    "start_time": "2024-08-09T23:38:04.863Z"
   },
   {
    "duration": 20,
    "start_time": "2024-08-09T23:38:13.903Z"
   },
   {
    "duration": 7,
    "start_time": "2024-08-09T23:44:41.586Z"
   },
   {
    "duration": 228,
    "start_time": "2024-08-09T23:45:14.679Z"
   },
   {
    "duration": 8,
    "start_time": "2024-08-09T23:45:18.836Z"
   },
   {
    "duration": 20,
    "start_time": "2024-08-09T23:45:32.048Z"
   },
   {
    "duration": 9,
    "start_time": "2024-08-09T23:45:59.797Z"
   },
   {
    "duration": 7,
    "start_time": "2024-08-09T23:46:06.613Z"
   },
   {
    "duration": 8,
    "start_time": "2024-08-09T23:46:12.728Z"
   },
   {
    "duration": 9,
    "start_time": "2024-08-09T23:47:06.764Z"
   },
   {
    "duration": 16,
    "start_time": "2024-08-10T00:06:21.608Z"
   },
   {
    "duration": 16,
    "start_time": "2024-08-10T00:06:25.562Z"
   },
   {
    "duration": 10,
    "start_time": "2024-08-10T00:08:17.738Z"
   },
   {
    "duration": 4,
    "start_time": "2024-08-10T00:15:08.857Z"
   },
   {
    "duration": 55,
    "start_time": "2024-08-10T00:16:49.693Z"
   },
   {
    "duration": 30,
    "start_time": "2024-08-10T00:17:32.230Z"
   },
   {
    "duration": 28,
    "start_time": "2024-08-10T00:20:11.823Z"
   },
   {
    "duration": 27,
    "start_time": "2024-08-10T00:21:23.187Z"
   },
   {
    "duration": 27,
    "start_time": "2024-08-10T00:27:07.295Z"
   },
   {
    "duration": 10,
    "start_time": "2024-08-10T00:27:20.558Z"
   },
   {
    "duration": 31,
    "start_time": "2024-08-10T00:27:24.477Z"
   },
   {
    "duration": 8,
    "start_time": "2024-08-10T00:29:57.100Z"
   },
   {
    "duration": 19,
    "start_time": "2024-08-10T00:31:37.209Z"
   },
   {
    "duration": 8,
    "start_time": "2024-08-10T00:32:49.513Z"
   },
   {
    "duration": 5,
    "start_time": "2024-08-10T00:33:44.974Z"
   },
   {
    "duration": 12,
    "start_time": "2024-08-10T00:49:51.613Z"
   },
   {
    "duration": 12,
    "start_time": "2024-08-10T00:56:05.493Z"
   },
   {
    "duration": 35,
    "start_time": "2024-08-10T00:56:13.193Z"
   },
   {
    "duration": 10,
    "start_time": "2024-08-10T00:56:31.406Z"
   },
   {
    "duration": 20,
    "start_time": "2024-08-10T00:56:43.861Z"
   },
   {
    "duration": 8,
    "start_time": "2024-08-10T00:56:49.293Z"
   },
   {
    "duration": 48,
    "start_time": "2024-08-10T01:22:01.044Z"
   },
   {
    "duration": 68,
    "start_time": "2024-08-10T01:24:25.911Z"
   },
   {
    "duration": 6,
    "start_time": "2024-08-10T01:24:54.035Z"
   },
   {
    "duration": 48,
    "start_time": "2024-08-10T01:25:02.446Z"
   },
   {
    "duration": 68,
    "start_time": "2024-08-10T01:26:23.061Z"
   },
   {
    "duration": 67,
    "start_time": "2024-08-10T01:26:49.419Z"
   },
   {
    "duration": 51,
    "start_time": "2024-08-10T01:27:13.289Z"
   },
   {
    "duration": 55,
    "start_time": "2024-08-10T01:33:03.574Z"
   },
   {
    "duration": 81,
    "start_time": "2024-08-10T01:43:41.552Z"
   },
   {
    "duration": 59,
    "start_time": "2024-08-10T01:44:14.911Z"
   },
   {
    "duration": 62,
    "start_time": "2024-08-10T01:45:20.181Z"
   },
   {
    "duration": 6,
    "start_time": "2024-08-10T01:45:50.241Z"
   },
   {
    "duration": 49,
    "start_time": "2024-08-10T01:50:13.743Z"
   },
   {
    "duration": 58,
    "start_time": "2024-08-10T01:54:14.940Z"
   },
   {
    "duration": 6,
    "start_time": "2024-08-10T01:54:26.021Z"
   },
   {
    "duration": 47,
    "start_time": "2024-08-10T01:57:54.187Z"
   },
   {
    "duration": 6,
    "start_time": "2024-08-10T01:58:04.610Z"
   },
   {
    "duration": 50,
    "start_time": "2024-08-10T02:02:34.527Z"
   },
   {
    "duration": 31,
    "start_time": "2024-08-10T02:06:48.306Z"
   },
   {
    "duration": 25,
    "start_time": "2024-08-10T02:14:16.714Z"
   },
   {
    "duration": 7,
    "start_time": "2024-08-10T02:21:18.979Z"
   },
   {
    "duration": 8,
    "start_time": "2024-08-10T02:23:41.147Z"
   },
   {
    "duration": 27,
    "start_time": "2024-08-10T02:28:30.176Z"
   },
   {
    "duration": 7,
    "start_time": "2024-08-10T02:28:35.677Z"
   },
   {
    "duration": 46,
    "start_time": "2024-08-10T02:28:38.576Z"
   },
   {
    "duration": 6,
    "start_time": "2024-08-10T02:30:13.955Z"
   },
   {
    "duration": 9,
    "start_time": "2024-08-10T02:31:31.551Z"
   },
   {
    "duration": 8,
    "start_time": "2024-08-10T02:31:57.643Z"
   },
   {
    "duration": 8,
    "start_time": "2024-08-10T02:32:43.891Z"
   },
   {
    "duration": 9,
    "start_time": "2024-08-10T02:32:49.415Z"
   },
   {
    "duration": 8,
    "start_time": "2024-08-10T02:34:15.302Z"
   },
   {
    "duration": 8,
    "start_time": "2024-08-10T02:35:59.771Z"
   },
   {
    "duration": 6,
    "start_time": "2024-08-10T02:36:12.331Z"
   },
   {
    "duration": 6,
    "start_time": "2024-08-10T02:36:15.435Z"
   },
   {
    "duration": 46,
    "start_time": "2024-08-10T02:36:23.633Z"
   },
   {
    "duration": 9,
    "start_time": "2024-08-10T02:38:10.582Z"
   },
   {
    "duration": 46,
    "start_time": "2024-08-10T02:38:19.761Z"
   },
   {
    "duration": 6,
    "start_time": "2024-08-10T02:38:42.569Z"
   },
   {
    "duration": 28,
    "start_time": "2024-08-10T02:39:38.420Z"
   },
   {
    "duration": 7,
    "start_time": "2024-08-10T02:39:52.257Z"
   },
   {
    "duration": 6,
    "start_time": "2024-08-10T02:39:54.209Z"
   },
   {
    "duration": 28,
    "start_time": "2024-08-10T02:39:58.765Z"
   },
   {
    "duration": 5282,
    "start_time": "2024-08-10T11:35:25.833Z"
   },
   {
    "duration": 41,
    "start_time": "2024-08-10T11:35:37.175Z"
   },
   {
    "duration": 20,
    "start_time": "2024-08-10T11:35:40.345Z"
   },
   {
    "duration": 19,
    "start_time": "2024-08-10T11:35:44.105Z"
   },
   {
    "duration": 7,
    "start_time": "2024-08-10T11:35:55.453Z"
   },
   {
    "duration": 40,
    "start_time": "2024-08-10T11:36:40.108Z"
   },
   {
    "duration": 18,
    "start_time": "2024-08-10T11:36:43.066Z"
   },
   {
    "duration": 5,
    "start_time": "2024-08-10T11:37:35.725Z"
   },
   {
    "duration": 23,
    "start_time": "2024-08-10T11:37:40.137Z"
   },
   {
    "duration": 15,
    "start_time": "2024-08-10T11:38:17.552Z"
   },
   {
    "duration": 6,
    "start_time": "2024-08-10T11:38:46.263Z"
   },
   {
    "duration": 15,
    "start_time": "2024-08-10T11:39:01.861Z"
   },
   {
    "duration": 17,
    "start_time": "2024-08-10T11:39:12.940Z"
   },
   {
    "duration": 29,
    "start_time": "2024-08-10T11:39:58.098Z"
   },
   {
    "duration": 18,
    "start_time": "2024-08-10T11:40:08.403Z"
   },
   {
    "duration": 13,
    "start_time": "2024-08-10T11:42:28.929Z"
   },
   {
    "duration": 4,
    "start_time": "2024-08-10T11:42:55.659Z"
   },
   {
    "duration": 39,
    "start_time": "2024-08-10T11:43:31.527Z"
   },
   {
    "duration": 15,
    "start_time": "2024-08-10T11:45:54.275Z"
   },
   {
    "duration": 21,
    "start_time": "2024-08-10T11:46:19.011Z"
   },
   {
    "duration": 16,
    "start_time": "2024-08-10T11:46:32.703Z"
   },
   {
    "duration": 52,
    "start_time": "2024-08-10T11:47:41.152Z"
   },
   {
    "duration": 7,
    "start_time": "2024-08-10T11:48:44.543Z"
   },
   {
    "duration": 28,
    "start_time": "2024-08-10T11:53:25.010Z"
   },
   {
    "duration": 8,
    "start_time": "2024-08-10T11:54:28.563Z"
   },
   {
    "duration": 7,
    "start_time": "2024-08-10T12:16:33.607Z"
   },
   {
    "duration": 12,
    "start_time": "2024-08-10T12:28:06.055Z"
   },
   {
    "duration": 11,
    "start_time": "2024-08-10T12:29:09.832Z"
   },
   {
    "duration": 37,
    "start_time": "2024-08-10T12:36:16.191Z"
   },
   {
    "duration": 590,
    "start_time": "2024-08-10T12:40:31.083Z"
   },
   {
    "duration": 94,
    "start_time": "2024-08-10T12:41:48.112Z"
   },
   {
    "duration": 62,
    "start_time": "2024-08-10T12:42:05.444Z"
   },
   {
    "duration": 41,
    "start_time": "2024-08-10T12:42:12.961Z"
   },
   {
    "duration": 6,
    "start_time": "2024-08-10T12:53:17.164Z"
   },
   {
    "duration": 9,
    "start_time": "2024-08-10T12:54:26.425Z"
   },
   {
    "duration": 10,
    "start_time": "2024-08-10T12:56:30.158Z"
   },
   {
    "duration": 2430,
    "start_time": "2024-08-10T13:09:49.098Z"
   },
   {
    "duration": 2337,
    "start_time": "2024-08-10T13:10:04.059Z"
   },
   {
    "duration": 2303,
    "start_time": "2024-08-10T13:11:12.659Z"
   },
   {
    "duration": 2321,
    "start_time": "2024-08-10T13:15:18.639Z"
   },
   {
    "duration": 2302,
    "start_time": "2024-08-10T13:16:21.453Z"
   },
   {
    "duration": 2331,
    "start_time": "2024-08-10T13:16:46.073Z"
   },
   {
    "duration": 2336,
    "start_time": "2024-08-10T13:31:18.466Z"
   },
   {
    "duration": 2780,
    "start_time": "2024-08-10T13:31:30.941Z"
   },
   {
    "duration": 188,
    "start_time": "2024-08-10T13:31:46.957Z"
   },
   {
    "duration": 2311,
    "start_time": "2024-08-10T13:32:10.490Z"
   },
   {
    "duration": 2330,
    "start_time": "2024-08-10T13:34:49.634Z"
   },
   {
    "duration": 2304,
    "start_time": "2024-08-10T13:38:20.312Z"
   },
   {
    "duration": 5973,
    "start_time": "2024-08-10T13:55:29.956Z"
   },
   {
    "duration": 8,
    "start_time": "2024-08-10T13:56:24.460Z"
   },
   {
    "duration": 297,
    "start_time": "2024-08-10T14:13:31.682Z"
   },
   {
    "duration": 34,
    "start_time": "2024-08-10T14:14:12.252Z"
   },
   {
    "duration": 142,
    "start_time": "2024-08-10T14:15:25.867Z"
   },
   {
    "duration": 38,
    "start_time": "2024-08-10T14:15:32.136Z"
   },
   {
    "duration": 6,
    "start_time": "2024-08-10T14:18:39.097Z"
   },
   {
    "duration": 5,
    "start_time": "2024-08-10T14:19:10.023Z"
   },
   {
    "duration": 1523,
    "start_time": "2024-08-10T14:29:45.585Z"
   },
   {
    "duration": 26,
    "start_time": "2024-08-10T14:29:48.759Z"
   },
   {
    "duration": 22,
    "start_time": "2024-08-10T14:29:53.298Z"
   },
   {
    "duration": 23,
    "start_time": "2024-08-10T14:29:56.122Z"
   },
   {
    "duration": 7,
    "start_time": "2024-08-10T14:29:59.920Z"
   },
   {
    "duration": 26,
    "start_time": "2024-08-10T14:30:02.728Z"
   },
   {
    "duration": 24,
    "start_time": "2024-08-10T14:30:05.185Z"
   },
   {
    "duration": 5,
    "start_time": "2024-08-10T14:30:09.147Z"
   },
   {
    "duration": 24,
    "start_time": "2024-08-10T14:30:12.099Z"
   },
   {
    "duration": 86,
    "start_time": "2024-08-10T14:30:23.359Z"
   },
   {
    "duration": 6,
    "start_time": "2024-08-10T14:30:26.966Z"
   },
   {
    "duration": 14,
    "start_time": "2024-08-10T14:30:31.038Z"
   },
   {
    "duration": 16,
    "start_time": "2024-08-10T14:30:33.784Z"
   },
   {
    "duration": 28,
    "start_time": "2024-08-10T14:31:06.426Z"
   },
   {
    "duration": 17,
    "start_time": "2024-08-10T14:31:08.611Z"
   },
   {
    "duration": 15,
    "start_time": "2024-08-10T14:34:38.235Z"
   },
   {
    "duration": 4,
    "start_time": "2024-08-10T14:36:43.271Z"
   },
   {
    "duration": 32,
    "start_time": "2024-08-10T14:36:47.551Z"
   },
   {
    "duration": 14,
    "start_time": "2024-08-10T14:36:53.692Z"
   },
   {
    "duration": 22,
    "start_time": "2024-08-10T14:36:57.377Z"
   },
   {
    "duration": 16,
    "start_time": "2024-08-10T14:37:00.370Z"
   },
   {
    "duration": 52,
    "start_time": "2024-08-10T14:37:20.326Z"
   },
   {
    "duration": 13,
    "start_time": "2024-08-10T14:37:36.073Z"
   },
   {
    "duration": 42,
    "start_time": "2024-08-10T14:40:06.851Z"
   },
   {
    "duration": 9,
    "start_time": "2024-08-10T14:41:08.073Z"
   },
   {
    "duration": 9,
    "start_time": "2024-08-10T14:41:11.386Z"
   },
   {
    "duration": 6,
    "start_time": "2024-08-10T14:41:15.554Z"
   },
   {
    "duration": 6,
    "start_time": "2024-08-10T14:41:18.225Z"
   },
   {
    "duration": 2460,
    "start_time": "2024-08-10T14:43:47.036Z"
   },
   {
    "duration": 7,
    "start_time": "2024-08-10T14:45:42.102Z"
   },
   {
    "duration": 2495,
    "start_time": "2024-08-10T14:50:15.289Z"
   },
   {
    "duration": 6158,
    "start_time": "2024-08-10T14:51:19.735Z"
   },
   {
    "duration": 335,
    "start_time": "2024-08-10T15:32:43.968Z"
   },
   {
    "duration": 314,
    "start_time": "2024-08-10T15:34:47.226Z"
   },
   {
    "duration": 326,
    "start_time": "2024-08-10T15:40:38.513Z"
   },
   {
    "duration": 360,
    "start_time": "2024-08-10T15:41:38.274Z"
   },
   {
    "duration": 9,
    "start_time": "2024-08-10T15:43:29.532Z"
   },
   {
    "duration": 9,
    "start_time": "2024-08-10T15:43:31.910Z"
   },
   {
    "duration": 9920,
    "start_time": "2024-08-10T15:54:08.496Z"
   },
   {
    "duration": 9968,
    "start_time": "2024-08-10T15:54:48.075Z"
   },
   {
    "duration": 13712,
    "start_time": "2024-08-10T16:18:04.571Z"
   },
   {
    "duration": 18262,
    "start_time": "2024-08-10T16:30:46.931Z"
   },
   {
    "duration": 1516,
    "start_time": "2024-08-10T16:45:56.541Z"
   },
   {
    "duration": 26,
    "start_time": "2024-08-10T16:45:58.061Z"
   },
   {
    "duration": 21,
    "start_time": "2024-08-10T16:45:58.101Z"
   },
   {
    "duration": 25,
    "start_time": "2024-08-10T16:45:58.125Z"
   },
   {
    "duration": 8,
    "start_time": "2024-08-10T16:45:58.245Z"
   },
   {
    "duration": 23,
    "start_time": "2024-08-10T16:45:58.256Z"
   },
   {
    "duration": 35,
    "start_time": "2024-08-10T16:45:58.281Z"
   },
   {
    "duration": 7,
    "start_time": "2024-08-10T16:45:58.321Z"
   },
   {
    "duration": 26,
    "start_time": "2024-08-10T16:45:58.331Z"
   },
   {
    "duration": 54,
    "start_time": "2024-08-10T16:45:58.360Z"
   },
   {
    "duration": 6,
    "start_time": "2024-08-10T16:45:58.417Z"
   },
   {
    "duration": 14,
    "start_time": "2024-08-10T16:45:58.426Z"
   },
   {
    "duration": 17,
    "start_time": "2024-08-10T16:45:58.443Z"
   },
   {
    "duration": 30,
    "start_time": "2024-08-10T16:45:58.502Z"
   },
   {
    "duration": 21,
    "start_time": "2024-08-10T16:45:58.535Z"
   },
   {
    "duration": 48,
    "start_time": "2024-08-10T16:45:58.559Z"
   },
   {
    "duration": 5,
    "start_time": "2024-08-10T16:45:58.610Z"
   },
   {
    "duration": 33,
    "start_time": "2024-08-10T16:45:58.619Z"
   },
   {
    "duration": 47,
    "start_time": "2024-08-10T16:45:58.655Z"
   },
   {
    "duration": 24,
    "start_time": "2024-08-10T16:45:58.705Z"
   },
   {
    "duration": 11,
    "start_time": "2024-08-10T16:45:58.732Z"
   },
   {
    "duration": 84,
    "start_time": "2024-08-10T16:45:58.747Z"
   },
   {
    "duration": 10,
    "start_time": "2024-08-10T16:45:58.834Z"
   },
   {
    "duration": 381,
    "start_time": "2024-08-10T16:45:58.850Z"
   },
   {
    "duration": 9977,
    "start_time": "2024-08-10T16:45:59.235Z"
   },
   {
    "duration": 9,
    "start_time": "2024-08-10T16:46:09.216Z"
   },
   {
    "duration": 9,
    "start_time": "2024-08-10T16:46:09.229Z"
   },
   {
    "duration": 8,
    "start_time": "2024-08-10T16:46:09.242Z"
   },
   {
    "duration": 48,
    "start_time": "2024-08-10T16:46:09.254Z"
   },
   {
    "duration": 13683,
    "start_time": "2024-08-10T16:46:09.306Z"
   },
   {
    "duration": 18412,
    "start_time": "2024-08-10T16:46:22.992Z"
   },
   {
    "duration": 5,
    "start_time": "2024-08-10T16:46:41.407Z"
   },
   {
    "duration": 1496,
    "start_time": "2024-08-10T16:52:45.360Z"
   },
   {
    "duration": 25,
    "start_time": "2024-08-10T16:52:46.861Z"
   },
   {
    "duration": 31,
    "start_time": "2024-08-10T16:52:46.889Z"
   },
   {
    "duration": 18,
    "start_time": "2024-08-10T16:52:46.927Z"
   },
   {
    "duration": 103,
    "start_time": "2024-08-10T16:52:46.949Z"
   },
   {
    "duration": 23,
    "start_time": "2024-08-10T16:52:47.055Z"
   },
   {
    "duration": 17,
    "start_time": "2024-08-10T16:52:47.103Z"
   },
   {
    "duration": 6,
    "start_time": "2024-08-10T16:52:47.125Z"
   },
   {
    "duration": 24,
    "start_time": "2024-08-10T16:52:47.135Z"
   },
   {
    "duration": 17,
    "start_time": "2024-08-10T16:52:47.201Z"
   },
   {
    "duration": 6,
    "start_time": "2024-08-10T16:52:47.221Z"
   },
   {
    "duration": 15,
    "start_time": "2024-08-10T16:52:47.230Z"
   },
   {
    "duration": 55,
    "start_time": "2024-08-10T16:52:47.247Z"
   },
   {
    "duration": 29,
    "start_time": "2024-08-10T16:52:47.304Z"
   },
   {
    "duration": 17,
    "start_time": "2024-08-10T16:52:47.336Z"
   },
   {
    "duration": 49,
    "start_time": "2024-08-10T16:52:47.357Z"
   },
   {
    "duration": 6,
    "start_time": "2024-08-10T16:52:47.408Z"
   },
   {
    "duration": 33,
    "start_time": "2024-08-10T16:52:47.417Z"
   },
   {
    "duration": 15,
    "start_time": "2024-08-10T16:52:47.454Z"
   },
   {
    "duration": 52,
    "start_time": "2024-08-10T16:52:47.472Z"
   },
   {
    "duration": 11,
    "start_time": "2024-08-10T16:52:47.527Z"
   },
   {
    "duration": 83,
    "start_time": "2024-08-10T16:52:47.541Z"
   },
   {
    "duration": 12,
    "start_time": "2024-08-10T16:52:47.627Z"
   },
   {
    "duration": 387,
    "start_time": "2024-08-10T16:52:47.642Z"
   },
   {
    "duration": 9778,
    "start_time": "2024-08-10T16:52:48.033Z"
   },
   {
    "duration": 9,
    "start_time": "2024-08-10T16:52:57.814Z"
   },
   {
    "duration": 8,
    "start_time": "2024-08-10T16:52:57.826Z"
   },
   {
    "duration": 6,
    "start_time": "2024-08-10T16:52:57.843Z"
   },
   {
    "duration": 50,
    "start_time": "2024-08-10T16:52:57.852Z"
   },
   {
    "duration": 13626,
    "start_time": "2024-08-10T16:52:57.905Z"
   },
   {
    "duration": 18047,
    "start_time": "2024-08-10T16:53:11.534Z"
   },
   {
    "duration": 4,
    "start_time": "2024-08-10T16:53:29.584Z"
   },
   {
    "duration": 7,
    "start_time": "2024-08-10T16:54:39.821Z"
   },
   {
    "duration": 519,
    "start_time": "2024-08-10T16:54:47.665Z"
   },
   {
    "duration": 65,
    "start_time": "2024-08-10T16:55:21.521Z"
   },
   {
    "duration": 63,
    "start_time": "2024-08-10T16:56:12.436Z"
   },
   {
    "duration": 62,
    "start_time": "2024-08-10T16:56:17.645Z"
   },
   {
    "duration": 25,
    "start_time": "2024-08-10T16:59:38.525Z"
   },
   {
    "duration": 4,
    "start_time": "2024-08-10T17:01:27.971Z"
   },
   {
    "duration": 5,
    "start_time": "2024-08-10T17:01:51.494Z"
   },
   {
    "duration": 1468,
    "start_time": "2024-08-10T17:07:30.865Z"
   },
   {
    "duration": 25,
    "start_time": "2024-08-10T17:07:32.337Z"
   },
   {
    "duration": 38,
    "start_time": "2024-08-10T17:07:32.365Z"
   },
   {
    "duration": 101,
    "start_time": "2024-08-10T17:07:32.407Z"
   },
   {
    "duration": 7,
    "start_time": "2024-08-10T17:07:32.513Z"
   },
   {
    "duration": 24,
    "start_time": "2024-08-10T17:07:32.524Z"
   },
   {
    "duration": 51,
    "start_time": "2024-08-10T17:07:32.552Z"
   },
   {
    "duration": 6,
    "start_time": "2024-08-10T17:07:32.606Z"
   },
   {
    "duration": 26,
    "start_time": "2024-08-10T17:07:32.615Z"
   },
   {
    "duration": 17,
    "start_time": "2024-08-10T17:07:32.644Z"
   },
   {
    "duration": 42,
    "start_time": "2024-08-10T17:07:32.664Z"
   },
   {
    "duration": 15,
    "start_time": "2024-08-10T17:07:32.709Z"
   },
   {
    "duration": 17,
    "start_time": "2024-08-10T17:07:32.727Z"
   },
   {
    "duration": 70,
    "start_time": "2024-08-10T17:07:32.752Z"
   },
   {
    "duration": 18,
    "start_time": "2024-08-10T17:07:32.825Z"
   },
   {
    "duration": 14,
    "start_time": "2024-08-10T17:07:32.847Z"
   },
   {
    "duration": 4,
    "start_time": "2024-08-10T17:07:32.864Z"
   },
   {
    "duration": 31,
    "start_time": "2024-08-10T17:07:32.903Z"
   },
   {
    "duration": 13,
    "start_time": "2024-08-10T17:07:32.937Z"
   },
   {
    "duration": 55,
    "start_time": "2024-08-10T17:07:32.953Z"
   },
   {
    "duration": 11,
    "start_time": "2024-08-10T17:07:33.010Z"
   },
   {
    "duration": 78,
    "start_time": "2024-08-10T17:07:33.024Z"
   },
   {
    "duration": 11,
    "start_time": "2024-08-10T17:07:33.105Z"
   },
   {
    "duration": 325,
    "start_time": "2024-08-10T17:07:33.119Z"
   },
   {
    "duration": 9776,
    "start_time": "2024-08-10T17:07:33.447Z"
   },
   {
    "duration": 10,
    "start_time": "2024-08-10T17:07:43.227Z"
   },
   {
    "duration": 9,
    "start_time": "2024-08-10T17:07:43.240Z"
   },
   {
    "duration": 6,
    "start_time": "2024-08-10T17:07:43.252Z"
   },
   {
    "duration": 6,
    "start_time": "2024-08-10T17:07:43.303Z"
   },
   {
    "duration": 13584,
    "start_time": "2024-08-10T17:07:43.314Z"
   },
   {
    "duration": 17986,
    "start_time": "2024-08-10T17:07:56.900Z"
   },
   {
    "duration": 14,
    "start_time": "2024-08-10T17:08:14.889Z"
   },
   {
    "duration": 13,
    "start_time": "2024-08-10T17:16:41.824Z"
   },
   {
    "duration": 162,
    "start_time": "2024-08-10T17:33:30.981Z"
   },
   {
    "duration": 169,
    "start_time": "2024-08-10T17:34:53.225Z"
   },
   {
    "duration": 175,
    "start_time": "2024-08-10T17:35:35.900Z"
   },
   {
    "duration": 166,
    "start_time": "2024-08-10T17:35:39.578Z"
   },
   {
    "duration": 173,
    "start_time": "2024-08-10T17:44:33.446Z"
   },
   {
    "duration": 6,
    "start_time": "2024-08-10T17:44:36.881Z"
   },
   {
    "duration": 1473,
    "start_time": "2024-08-10T18:45:49.176Z"
   },
   {
    "duration": 26,
    "start_time": "2024-08-10T18:45:50.653Z"
   },
   {
    "duration": 36,
    "start_time": "2024-08-10T18:45:50.682Z"
   },
   {
    "duration": 17,
    "start_time": "2024-08-10T18:45:50.724Z"
   },
   {
    "duration": 107,
    "start_time": "2024-08-10T18:45:50.745Z"
   },
   {
    "duration": 23,
    "start_time": "2024-08-10T18:45:50.855Z"
   },
   {
    "duration": 17,
    "start_time": "2024-08-10T18:45:50.901Z"
   },
   {
    "duration": 5,
    "start_time": "2024-08-10T18:45:50.922Z"
   },
   {
    "duration": 25,
    "start_time": "2024-08-10T18:45:50.931Z"
   },
   {
    "duration": 50,
    "start_time": "2024-08-10T18:45:50.962Z"
   },
   {
    "duration": 6,
    "start_time": "2024-08-10T18:45:51.015Z"
   },
   {
    "duration": 14,
    "start_time": "2024-08-10T18:45:51.026Z"
   },
   {
    "duration": 60,
    "start_time": "2024-08-10T18:45:51.043Z"
   },
   {
    "duration": 31,
    "start_time": "2024-08-10T18:45:51.106Z"
   },
   {
    "duration": 22,
    "start_time": "2024-08-10T18:45:51.140Z"
   },
   {
    "duration": 43,
    "start_time": "2024-08-10T18:45:51.165Z"
   },
   {
    "duration": 4,
    "start_time": "2024-08-10T18:45:51.211Z"
   },
   {
    "duration": 33,
    "start_time": "2024-08-10T18:45:51.218Z"
   },
   {
    "duration": 50,
    "start_time": "2024-08-10T18:45:51.254Z"
   },
   {
    "duration": 22,
    "start_time": "2024-08-10T18:45:51.306Z"
   },
   {
    "duration": 11,
    "start_time": "2024-08-10T18:45:51.331Z"
   },
   {
    "duration": 85,
    "start_time": "2024-08-10T18:45:51.345Z"
   },
   {
    "duration": 9,
    "start_time": "2024-08-10T18:45:51.437Z"
   },
   {
    "duration": 391,
    "start_time": "2024-08-10T18:45:51.450Z"
   },
   {
    "duration": 9700,
    "start_time": "2024-08-10T18:45:51.844Z"
   },
   {
    "duration": 9,
    "start_time": "2024-08-10T18:46:01.548Z"
   },
   {
    "duration": 39,
    "start_time": "2024-08-10T18:46:01.562Z"
   },
   {
    "duration": 6,
    "start_time": "2024-08-10T18:46:01.610Z"
   },
   {
    "duration": 7,
    "start_time": "2024-08-10T18:46:01.619Z"
   },
   {
    "duration": 13606,
    "start_time": "2024-08-10T18:46:01.628Z"
   },
   {
    "duration": 18222,
    "start_time": "2024-08-10T18:46:15.237Z"
   },
   {
    "duration": 13,
    "start_time": "2024-08-10T18:46:33.463Z"
   },
   {
    "duration": 203,
    "start_time": "2024-08-10T18:46:33.479Z"
   },
   {
    "duration": 1487,
    "start_time": "2024-08-10T18:48:06.141Z"
   },
   {
    "duration": 24,
    "start_time": "2024-08-10T18:48:07.632Z"
   },
   {
    "duration": 22,
    "start_time": "2024-08-10T18:48:07.658Z"
   },
   {
    "duration": 20,
    "start_time": "2024-08-10T18:48:07.703Z"
   },
   {
    "duration": 7,
    "start_time": "2024-08-10T18:48:07.814Z"
   },
   {
    "duration": 23,
    "start_time": "2024-08-10T18:48:07.825Z"
   },
   {
    "duration": 17,
    "start_time": "2024-08-10T18:48:07.851Z"
   },
   {
    "duration": 6,
    "start_time": "2024-08-10T18:48:07.903Z"
   },
   {
    "duration": 24,
    "start_time": "2024-08-10T18:48:07.912Z"
   },
   {
    "duration": 16,
    "start_time": "2024-08-10T18:48:07.939Z"
   },
   {
    "duration": 6,
    "start_time": "2024-08-10T18:48:07.958Z"
   },
   {
    "duration": 13,
    "start_time": "2024-08-10T18:48:08.004Z"
   },
   {
    "duration": 16,
    "start_time": "2024-08-10T18:48:08.021Z"
   },
   {
    "duration": 62,
    "start_time": "2024-08-10T18:48:08.045Z"
   },
   {
    "duration": 18,
    "start_time": "2024-08-10T18:48:08.109Z"
   },
   {
    "duration": 23,
    "start_time": "2024-08-10T18:48:08.130Z"
   },
   {
    "duration": 5,
    "start_time": "2024-08-10T18:48:08.156Z"
   },
   {
    "duration": 77,
    "start_time": "2024-08-10T18:48:08.164Z"
   },
   {
    "duration": 13,
    "start_time": "2024-08-10T18:48:08.245Z"
   },
   {
    "duration": 47,
    "start_time": "2024-08-10T18:48:08.261Z"
   },
   {
    "duration": 12,
    "start_time": "2024-08-10T18:48:08.311Z"
   },
   {
    "duration": 78,
    "start_time": "2024-08-10T18:48:08.326Z"
   },
   {
    "duration": 11,
    "start_time": "2024-08-10T18:48:08.407Z"
   },
   {
    "duration": 329,
    "start_time": "2024-08-10T18:48:08.421Z"
   },
   {
    "duration": 9821,
    "start_time": "2024-08-10T18:48:08.757Z"
   },
   {
    "duration": 21,
    "start_time": "2024-08-10T18:48:18.582Z"
   },
   {
    "duration": 9,
    "start_time": "2024-08-10T18:48:18.606Z"
   },
   {
    "duration": 6,
    "start_time": "2024-08-10T18:48:18.621Z"
   },
   {
    "duration": 6,
    "start_time": "2024-08-10T18:48:18.630Z"
   },
   {
    "duration": 13643,
    "start_time": "2024-08-10T18:48:18.640Z"
   },
   {
    "duration": 18178,
    "start_time": "2024-08-10T18:48:32.286Z"
   },
   {
    "duration": 34,
    "start_time": "2024-08-10T18:48:50.467Z"
   },
   {
    "duration": 186,
    "start_time": "2024-08-10T18:48:50.504Z"
   }
  ],
  "kernelspec": {
   "display_name": "Python 3",
   "language": "python",
   "name": "python3"
  },
  "language_info": {
   "codemirror_mode": {
    "name": "ipython",
    "version": 3
   },
   "file_extension": ".py",
   "mimetype": "text/x-python",
   "name": "python",
   "nbconvert_exporter": "python",
   "pygments_lexer": "ipython3",
   "version": "3.12.1"
  },
  "toc": {
   "base_numbering": 1,
   "nav_menu": {},
   "number_sections": true,
   "sideBar": true,
   "skip_h1_title": true,
   "title_cell": "Table of Contents",
   "title_sidebar": "Contents",
   "toc_cell": false,
   "toc_position": {},
   "toc_section_display": true,
   "toc_window_display": false
  }
 },
 "nbformat": 4,
 "nbformat_minor": 4
}
